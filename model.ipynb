{
 "cells": [
  {
   "cell_type": "code",
   "execution_count": 0,
   "metadata": {
    "colab": {},
    "colab_type": "code",
    "id": "r4_Xbk5YuoZ6"
   },
   "outputs": [],
   "source": [
    "#import os\n",
    "\n",
    "#os.chdir('drive/My Drive/Colab Notebooks/projects/face_recognition')\n",
    "#del os"
   ]
  },
  {
   "cell_type": "code",
   "execution_count": 0,
   "metadata": {
    "colab": {},
    "colab_type": "code",
    "id": "lhfaeXjmvnkU"
   },
   "outputs": [],
   "source": [
    "import numpy as np\n",
    "data=np.load('sub_final_data.npz')\n"
   ]
  },
  {
   "cell_type": "code",
   "execution_count": 0,
   "metadata": {
    "colab": {},
    "colab_type": "code",
    "id": "n3F8GUXcv4P9"
   },
   "outputs": [],
   "source": [
    "x_train=data['x_train']\n",
    "y_train=data['y_train']"
   ]
  },
  {
   "cell_type": "code",
   "execution_count": 0,
   "metadata": {
    "colab": {},
    "colab_type": "code",
    "id": "4eL2dL53xdn3"
   },
   "outputs": [],
   "source": [
    "del data"
   ]
  },
  {
   "cell_type": "code",
   "execution_count": 5,
   "metadata": {
    "colab": {
     "base_uri": "https://localhost:8080/",
     "height": 34
    },
    "colab_type": "code",
    "executionInfo": {
     "elapsed": 5160,
     "status": "ok",
     "timestamp": 1587129431209,
     "user": {
      "displayName": "Kartik Mishra",
      "photoUrl": "https://lh3.googleusercontent.com/a-/AOh14Gi_fMMyzaAPlBiF_QIr8c_fsVKyOaNbaBr-KRGCgg=s64",
      "userId": "16137103791871176905"
     },
     "user_tz": -330
    },
    "id": "ToBkez7Zxf0k",
    "outputId": "7939e90c-3542-4bf7-db2b-0cd15c3f56c5"
   },
   "outputs": [
    {
     "name": "stdout",
     "output_type": "stream",
     "text": [
      "(20100, 2, 64, 64)\n"
     ]
    }
   ],
   "source": [
    "print(x_train.shape)\n",
    "x_train=np.reshape(x_train,(20100,64,64,2,1))\n",
    "del np"
   ]
  },
  {
   "cell_type": "code",
   "execution_count": 0,
   "metadata": {
    "colab": {},
    "colab_type": "code",
    "id": "Xa8gomf1xki8"
   },
   "outputs": [],
   "source": [
    "from tensorflow.keras.models import Model\n",
    "from tensorflow.keras.layers import Conv3D,Dropout,Dense,Flatten,MaxPooling3D,Input"
   ]
  },
  {
   "cell_type": "code",
   "execution_count": 0,
   "metadata": {
    "colab": {},
    "colab_type": "code",
    "id": "4Ju5Qeyxyt6v"
   },
   "outputs": [],
   "source": [
    "inputs=Input(shape=(64,64,2,1))\n",
    "x=Conv3D(16,(3,3,2),use_bias=True,activation='relu',padding='same')(inputs)\n",
    "x=MaxPooling3D((2,2,2))(x)\n",
    "x=Dropout(0.5)(x)\n",
    "x=Conv3D(16,(3,3,1),use_bias=True,activation='relu')(x)\n",
    "x=MaxPooling3D((2,2,1))(x)\n",
    "x=Dropout(0.5)(x)\n",
    "x=Flatten()(x)\n",
    "x=Dense(1,use_bias=False,activation='relu')(x)\n",
    "x=Model(inputs=inputs,outputs=x)\n"
   ]
  },
  {
   "cell_type": "code",
   "execution_count": 0,
   "metadata": {
    "colab": {},
    "colab_type": "code",
    "id": "GWsnjxrkSWYV"
   },
   "outputs": [],
   "source": [
    "del Conv3D,Dropout,Dense,Flatten,MaxPooling3D,Input"
   ]
  },
  {
   "cell_type": "code",
   "execution_count": 19,
   "metadata": {
    "colab": {
     "base_uri": "https://localhost:8080/",
     "height": 370
    },
    "colab_type": "code",
    "executionInfo": {
     "elapsed": 86498,
     "status": "ok",
     "timestamp": 1587129739839,
     "user": {
      "displayName": "Kartik Mishra",
      "photoUrl": "https://lh3.googleusercontent.com/a-/AOh14Gi_fMMyzaAPlBiF_QIr8c_fsVKyOaNbaBr-KRGCgg=s64",
      "userId": "16137103791871176905"
     },
     "user_tz": -330
    },
    "id": "3VRPurH2zw4z",
    "outputId": "bca75348-fc9c-442b-9bc4-b2285bd5eed0"
   },
   "outputs": [
    {
     "name": "stdout",
     "output_type": "stream",
     "text": [
      "Epoch 1/10\n",
      "1407/1407 [==============================] - 8s 6ms/step - loss: 0.0359 - accuracy: 0.9640 - val_loss: 0.0987 - val_accuracy: 0.9013\n",
      "Epoch 2/10\n",
      "1407/1407 [==============================] - 8s 6ms/step - loss: 0.0359 - accuracy: 0.9641 - val_loss: 0.0987 - val_accuracy: 0.9013\n",
      "Epoch 3/10\n",
      "1407/1407 [==============================] - 8s 6ms/step - loss: 0.0359 - accuracy: 0.9641 - val_loss: 0.0987 - val_accuracy: 0.9013\n",
      "Epoch 4/10\n",
      "1407/1407 [==============================] - 8s 6ms/step - loss: 0.0359 - accuracy: 0.9641 - val_loss: 0.0987 - val_accuracy: 0.9013\n",
      "Epoch 5/10\n",
      "1407/1407 [==============================] - 8s 6ms/step - loss: 0.0359 - accuracy: 0.9641 - val_loss: 0.0987 - val_accuracy: 0.9013\n",
      "Epoch 6/10\n",
      "1407/1407 [==============================] - 8s 6ms/step - loss: 0.0359 - accuracy: 0.9641 - val_loss: 0.0987 - val_accuracy: 0.9013\n",
      "Epoch 7/10\n",
      "1407/1407 [==============================] - 8s 6ms/step - loss: 0.0359 - accuracy: 0.9641 - val_loss: 0.0987 - val_accuracy: 0.9013\n",
      "Epoch 8/10\n",
      "1407/1407 [==============================] - 8s 6ms/step - loss: 0.0359 - accuracy: 0.9641 - val_loss: 0.0987 - val_accuracy: 0.9013\n",
      "Epoch 9/10\n",
      "1407/1407 [==============================] - 8s 6ms/step - loss: 0.0359 - accuracy: 0.9641 - val_loss: 0.0987 - val_accuracy: 0.9013\n",
      "Epoch 10/10\n",
      "1407/1407 [==============================] - 8s 6ms/step - loss: 0.0359 - accuracy: 0.9641 - val_loss: 0.0987 - val_accuracy: 0.9013\n"
     ]
    },
    {
     "data": {
      "text/plain": [
       "<tensorflow.python.keras.callbacks.History at 0x7f4f765e80f0>"
      ]
     },
     "execution_count": 19,
     "metadata": {
      "tags": []
     },
     "output_type": "execute_result"
    }
   ],
   "source": [
    "x.compile(optimizer='adam',loss='mse',metrics=['accuracy'])\n",
    "x.fit(x_train,y_train,epochs=10,validation_split=0.3,batch_size=10,shuffle=True)"
   ]
  },
  {
   "cell_type": "code",
   "execution_count": 20,
   "metadata": {
    "colab": {
     "base_uri": "https://localhost:8080/",
     "height": 454
    },
    "colab_type": "code",
    "executionInfo": {
     "elapsed": 1795,
     "status": "ok",
     "timestamp": 1587129779517,
     "user": {
      "displayName": "Kartik Mishra",
      "photoUrl": "https://lh3.googleusercontent.com/a-/AOh14Gi_fMMyzaAPlBiF_QIr8c_fsVKyOaNbaBr-KRGCgg=s64",
      "userId": "16137103791871176905"
     },
     "user_tz": -330
    },
    "id": "nAyNzURq3QBs",
    "outputId": "6ee36431-43c8-4462-b615-eb43866cd42b"
   },
   "outputs": [
    {
     "name": "stdout",
     "output_type": "stream",
     "text": [
      "Model: \"model_2\"\n",
      "_________________________________________________________________\n",
      "Layer (type)                 Output Shape              Param #   \n",
      "=================================================================\n",
      "input_3 (InputLayer)         [(None, 64, 64, 2, 1)]    0         \n",
      "_________________________________________________________________\n",
      "conv3d_4 (Conv3D)            (None, 64, 64, 2, 16)     304       \n",
      "_________________________________________________________________\n",
      "max_pooling3d_4 (MaxPooling3 (None, 32, 32, 1, 16)     0         \n",
      "_________________________________________________________________\n",
      "dropout_4 (Dropout)          (None, 32, 32, 1, 16)     0         \n",
      "_________________________________________________________________\n",
      "conv3d_5 (Conv3D)            (None, 30, 30, 1, 16)     2320      \n",
      "_________________________________________________________________\n",
      "max_pooling3d_5 (MaxPooling3 (None, 15, 15, 1, 16)     0         \n",
      "_________________________________________________________________\n",
      "dropout_5 (Dropout)          (None, 15, 15, 1, 16)     0         \n",
      "_________________________________________________________________\n",
      "flatten_2 (Flatten)          (None, 3600)              0         \n",
      "_________________________________________________________________\n",
      "dense_4 (Dense)              (None, 1)                 3600      \n",
      "=================================================================\n",
      "Total params: 6,224\n",
      "Trainable params: 6,224\n",
      "Non-trainable params: 0\n",
      "_________________________________________________________________\n"
     ]
    }
   ],
   "source": [
    "x.summary()"
   ]
  },
  {
   "cell_type": "code",
   "execution_count": 10,
   "metadata": {
    "colab": {
     "base_uri": "https://localhost:8080/",
     "height": 1000
    },
    "colab_type": "code",
    "executionInfo": {
     "elapsed": 95821,
     "status": "ok",
     "timestamp": 1587129331533,
     "user": {
      "displayName": "Kartik Mishra",
      "photoUrl": "https://lh3.googleusercontent.com/a-/AOh14Gi_fMMyzaAPlBiF_QIr8c_fsVKyOaNbaBr-KRGCgg=s64",
      "userId": "16137103791871176905"
     },
     "user_tz": -330
    },
    "id": "gZFbH4HU32YY",
    "outputId": "10aec8bd-320f-4006-dc59-8584282ce14c"
   },
   "outputs": [
    {
     "data": {
      "text/plain": [
       "array([[[[0.30991736],\n",
       "         [0.36776859]],\n",
       "\n",
       "        [[0.41735536],\n",
       "         [0.44214877]],\n",
       "\n",
       "        [[0.5289256 ],\n",
       "         [0.60743803]],\n",
       "\n",
       "        ...,\n",
       "\n",
       "        [[0.60330576],\n",
       "         [0.51239669]],\n",
       "\n",
       "        [[0.44214877],\n",
       "         [0.37190083]],\n",
       "\n",
       "        [[0.33884299],\n",
       "         [0.3140496 ]]],\n",
       "\n",
       "\n",
       "       [[[0.3429752 ],\n",
       "         [0.41735536]],\n",
       "\n",
       "        [[0.45041323],\n",
       "         [0.51239669]],\n",
       "\n",
       "        [[0.57438016],\n",
       "         [0.64462811]],\n",
       "\n",
       "        ...,\n",
       "\n",
       "        [[0.62396693],\n",
       "         [0.54132229]],\n",
       "\n",
       "        [[0.47107437],\n",
       "         [0.38429752]],\n",
       "\n",
       "        [[0.34710744],\n",
       "         [0.2644628 ]]],\n",
       "\n",
       "\n",
       "       [[[0.33471075],\n",
       "         [0.4214876 ]],\n",
       "\n",
       "        [[0.47520661],\n",
       "         [0.58264464]],\n",
       "\n",
       "        [[0.6404959 ],\n",
       "         [0.66528928]],\n",
       "\n",
       "        ...,\n",
       "\n",
       "        [[0.63636363],\n",
       "         [0.59090906]],\n",
       "\n",
       "        [[0.47933885],\n",
       "         [0.38429752]],\n",
       "\n",
       "        [[0.32644629],\n",
       "         [0.37190083]]],\n",
       "\n",
       "\n",
       "       ...,\n",
       "\n",
       "\n",
       "       [[[0.19834711],\n",
       "         [0.20247933]],\n",
       "\n",
       "        [[0.19008264],\n",
       "         [0.19834711]],\n",
       "\n",
       "        [[0.19834711],\n",
       "         [0.18181819]],\n",
       "\n",
       "        ...,\n",
       "\n",
       "        [[0.51239669],\n",
       "         [0.17768595]],\n",
       "\n",
       "        [[0.14462809],\n",
       "         [0.1570248 ]],\n",
       "\n",
       "        [[0.15289256],\n",
       "         [0.16115703]]],\n",
       "\n",
       "\n",
       "       [[[0.20661157],\n",
       "         [0.20247933]],\n",
       "\n",
       "        [[0.19834711],\n",
       "         [0.21487603]],\n",
       "\n",
       "        [[0.19008264],\n",
       "         [0.20247933]],\n",
       "\n",
       "        ...,\n",
       "\n",
       "        [[0.49586776],\n",
       "         [0.14876033]],\n",
       "\n",
       "        [[0.1570248 ],\n",
       "         [0.15289256]],\n",
       "\n",
       "        [[0.16528925],\n",
       "         [0.17355372]]],\n",
       "\n",
       "\n",
       "       [[[0.20247933],\n",
       "         [0.2107438 ]],\n",
       "\n",
       "        [[0.2107438 ],\n",
       "         [0.20661157]],\n",
       "\n",
       "        [[0.20247933],\n",
       "         [0.10743801]],\n",
       "\n",
       "        ...,\n",
       "\n",
       "        [[0.47520661],\n",
       "         [0.1322314 ]],\n",
       "\n",
       "        [[0.14876033],\n",
       "         [0.15289256]],\n",
       "\n",
       "        [[0.16115703],\n",
       "         [0.1570248 ]]]])"
      ]
     },
     "execution_count": 10,
     "metadata": {
      "tags": []
     },
     "output_type": "execute_result"
    }
   ],
   "source": [
    "l\n",
    "x_train[0]"
   ]
  },
  {
   "cell_type": "code",
   "execution_count": 11,
   "metadata": {
    "colab": {
     "base_uri": "https://localhost:8080/",
     "height": 34
    },
    "colab_type": "code",
    "executionInfo": {
     "elapsed": 94602,
     "status": "ok",
     "timestamp": 1587129331533,
     "user": {
      "displayName": "Kartik Mishra",
      "photoUrl": "https://lh3.googleusercontent.com/a-/AOh14Gi_fMMyzaAPlBiF_QIr8c_fsVKyOaNbaBr-KRGCgg=s64",
      "userId": "16137103791871176905"
     },
     "user_tz": -330
    },
    "id": "SvvrW0GS8rGy",
    "outputId": "bcd04653-311c-4803-9970-913060377a80"
   },
   "outputs": [
    {
     "data": {
      "text/plain": [
       "1"
      ]
     },
     "execution_count": 11,
     "metadata": {
      "tags": []
     },
     "output_type": "execute_result"
    }
   ],
   "source": [
    "y_train[0]"
   ]
  },
  {
   "cell_type": "code",
   "execution_count": 0,
   "metadata": {
    "colab": {},
    "colab_type": "code",
    "id": "Kuxc3zeU8wFJ"
   },
   "outputs": [],
   "source": [
    "del x_train,y_train"
   ]
  },
  {
   "cell_type": "code",
   "execution_count": 0,
   "metadata": {
    "colab": {},
    "colab_type": "code",
    "id": "azDwKHZW9YFu"
   },
   "outputs": [],
   "source": [
    "x.save('model.h5')"
   ]
  },
  {
   "cell_type": "code",
   "execution_count": 0,
   "metadata": {
    "colab": {},
    "colab_type": "code",
    "id": "dT5qXxQ9-hEr"
   },
   "outputs": [],
   "source": [
    "del x"
   ]
  },
  {
   "cell_type": "code",
   "execution_count": 0,
   "metadata": {
    "colab": {},
    "colab_type": "code",
    "id": "f8H6Z6GCS5l2"
   },
   "outputs": [],
   "source": []
  }
 ],
 "metadata": {
  "accelerator": "GPU",
  "colab": {
   "authorship_tag": "ABX9TyNEXbb6eG4KYMxHlzbBN0vb",
   "mount_file_id": "10Nke0XYzwytabuM2ECZgwcqYFxvpwri4",
   "name": "model.ipynb",
   "provenance": []
  },
  "kernelspec": {
   "display_name": "Python 3",
   "language": "python",
   "name": "python3"
  },
  "language_info": {
   "codemirror_mode": {
    "name": "ipython",
    "version": 3
   },
   "file_extension": ".py",
   "mimetype": "text/x-python",
   "name": "python",
   "nbconvert_exporter": "python",
   "pygments_lexer": "ipython3",
   "version": "3.7.3"
  }
 },
 "nbformat": 4,
 "nbformat_minor": 1
}
